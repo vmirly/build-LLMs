{
 "cells": [
  {
   "cell_type": "markdown",
   "metadata": {},
   "source": [
    "### Attention mechanism\n",
    "\n",
    " * Queries with shape `[B, T, C]`\n",
    " * Keys with shape `[B, T, C]`\n",
    " * Values with shape `[B, T, C]`\n",
    "\n",
    " * Computations:\n",
    "   * Attention scores $QK^\\top$ ==> shape: `[B, T, T]`\n",
    "   * Scaling the attention score\n",
    "   * Softmax normalization\n",
    "   * Multiply with tensor V\n",
    "\n",
    "$$\\text{Attention(Q,K,V)}=\\text{Softmax}\\left(\\frac{QK^\\top}{\\sqrt{d_k}}\\right)V$$"
   ]
  },
  {
   "cell_type": "markdown",
   "metadata": {},
   "source": [
    "### Version 1: using ModuleList for multi-head attention"
   ]
  },
  {
   "cell_type": "code",
   "execution_count": 1,
   "metadata": {},
   "outputs": [
    {
     "name": "stdout",
     "output_type": "stream",
     "text": [
      "SelfAttention_v1(\n",
      "  (q_proj): Linear(in_features=10, out_features=10, bias=True)\n",
      "  (k_proj): Linear(in_features=10, out_features=10, bias=True)\n",
      "  (v_proj): Linear(in_features=10, out_features=10, bias=True)\n",
      ")\n",
      "\n",
      "Attention Weights: torch.Size([2, 5, 5])\n",
      "Output: torch.Size([2, 5, 10])\n"
     ]
    }
   ],
   "source": [
    "import numpy as np\n",
    "import torch\n",
    "import torch.nn as nn\n",
    "import torch.nn.functional as F\n",
    "\n",
    "class SelfAttention_v1(nn.Module):\n",
    "    def __init__(self, d_in, d_out):\n",
    "        super().__init__()\n",
    "        self.q_proj = nn.Linear(d_in, d_out)\n",
    "        self.k_proj = nn.Linear(d_in, d_out)\n",
    "        self.v_proj = nn.Linear(d_in, d_out)\n",
    "        \n",
    "    def forward(self, x):\n",
    "        # Apply linear transformations to get queries, keys, and values\n",
    "        # x: [B, T, C]\n",
    "        q = self.q_proj(x)  # [B, T, C]\n",
    "        k = self.k_proj(x)  # [B, T, C]\n",
    "        v = self.v_proj(x)  # [B, T, C]\n",
    "        \n",
    "        # Calculate attention scores\n",
    "        scores = torch.bmm(q, k.transpose(1, 2))  # [B, T, T]\n",
    "        scores = scores / np.sqrt(k.size(-1))     # Scaling by sqrt(d_k)\n",
    "        \n",
    "        # Apply softmax to get attention weights\n",
    "        attn_weights = F.softmax(scores, dim=-1)  # [B, T, T]\n",
    "        \n",
    "        # Multiply attention weights with values\n",
    "        out = torch.bmm(attn_weights, v)          # [B, T, C]\n",
    "        \n",
    "        return out, attn_weights\n",
    "\n",
    "# testing\n",
    "x = torch.randn(2, 5, 10)\n",
    "attention = SelfAttention_v1(10, 10)\n",
    "print(attention)\n",
    "\n",
    "out, attn_weights = attention(x)\n",
    "print(\"\\nAttention Weights:\", attn_weights.size())  # torch.Size([2, 5, 5])\n",
    "print(\"Output:\", out.size())  # torch.Size([2, 5, 10])"
   ]
  },
  {
   "cell_type": "code",
   "execution_count": 2,
   "metadata": {},
   "outputs": [
    {
     "name": "stdout",
     "output_type": "stream",
     "text": [
      "MultiHeadAttention_v1(\n",
      "  (heads): ModuleList(\n",
      "    (0-7): 8 x SelfAttention_v1(\n",
      "      (q_proj): Linear(in_features=32, out_features=4, bias=True)\n",
      "      (k_proj): Linear(in_features=32, out_features=4, bias=True)\n",
      "      (v_proj): Linear(in_features=32, out_features=4, bias=True)\n",
      "    )\n",
      "  )\n",
      "  (out_proj): Linear(in_features=32, out_features=32, bias=True)\n",
      ")\n",
      "\n",
      "Input: torch.Size([2, 5, 32])\n",
      "Output: torch.Size([2, 5, 32])\n"
     ]
    }
   ],
   "source": [
    "# A wrapper class for multihead attention\n",
    "class MultiHeadAttention_v1(nn.Module):\n",
    "    def __init__(self, embed_dim, num_heads):\n",
    "        super().__init__()\n",
    "        assert embed_dim % num_heads == 0, (\n",
    "            \"Embedding dimension must be divisible by number of heads\"\n",
    "        )\n",
    "\n",
    "        self.heads = nn.ModuleList(\n",
    "            [\n",
    "                SelfAttention_v1(d_in=embed_dim, d_out=embed_dim // num_heads)\n",
    "                for _ in range(num_heads)\n",
    "            ]\n",
    "        )\n",
    "        self.out_proj = nn.Linear(embed_dim, embed_dim)\n",
    "\n",
    "    def forward(self, x):\n",
    "        # split x into multiple heads and apply attention\n",
    "        context_vec = torch.cat([head(x)[0] for head in self.heads], dim=-1)\n",
    "        return self.out_proj(context_vec)\n",
    "    \n",
    "# testing\n",
    "batch_size = 2\n",
    "seq_len = 5\n",
    "embed_dim = 32\n",
    "num_heads = 8\n",
    "\n",
    "mha = MultiHeadAttention_v1(embed_dim, num_heads)\n",
    "print(mha)\n",
    "\n",
    "x = torch.randn(batch_size, seq_len, embed_dim)\n",
    "print(\"\\nInput:\", x.size())\n",
    "out = mha(x)\n",
    "print(\"Output:\", out.size())"
   ]
  },
  {
   "cell_type": "markdown",
   "metadata": {},
   "source": [
    "### Version 2: All-in-one"
   ]
  },
  {
   "cell_type": "code",
   "execution_count": 3,
   "metadata": {},
   "outputs": [
    {
     "name": "stdout",
     "output_type": "stream",
     "text": [
      "MultiheadSelfAttention(\n",
      "  (q_proj): Linear(in_features=32, out_features=32, bias=True)\n",
      "  (k_proj): Linear(in_features=32, out_features=32, bias=True)\n",
      "  (v_proj): Linear(in_features=32, out_features=32, bias=True)\n",
      "  (out_proj): Linear(in_features=32, out_features=32, bias=True)\n",
      ")\n",
      "\n",
      "Attention Weights: torch.Size([2, 8, 5, 5])\n",
      "Output: torch.Size([2, 5, 32])\n"
     ]
    }
   ],
   "source": [
    "import torch\n",
    "import torch.nn as nn\n",
    "import torch.nn.functional as F\n",
    "import numpy as np\n",
    "\n",
    "\n",
    "class MultiheadSelfAttention(nn.Module):\n",
    "    def __init__(self, embed_dim, num_heads):\n",
    "        super().__init__()\n",
    "        assert embed_dim % num_heads == 0, (\n",
    "            \"Embedding dimension must be divisible by number of heads\"\n",
    "        )\n",
    "        self.num_heads = num_heads\n",
    "        self.q_proj = nn.Linear(embed_dim, embed_dim)\n",
    "        self.k_proj = nn.Linear(embed_dim, embed_dim)\n",
    "        self.v_proj = nn.Linear(embed_dim, embed_dim)\n",
    "        self.out_proj = nn.Linear(embed_dim, embed_dim)\n",
    "        \n",
    "    def forward(self, x):\n",
    "        # Apply linear transformations to get queries, keys, and values\n",
    "        # x: [B, T, C]\n",
    "        q = self.q_proj(x)\n",
    "        k = self.k_proj(x)\n",
    "        v = self.v_proj(x)\n",
    "        # q,k,v: [B, T, C]\n",
    "\n",
    "        # Split the queries, keys, and values into multiple heads\n",
    "        B, T, C = q.size()\n",
    "        q = q.view(B, T, self.num_heads, C // self.num_heads).permute(0, 2, 1, 3)\n",
    "        k = k.view(B, T, self.num_heads, C // self.num_heads).permute(0, 2, 1, 3)\n",
    "        v = v.view(B, T, self.num_heads, C // self.num_heads).permute(0, 2, 1, 3)\n",
    "        # q,k,v: [B, nh, T, C//nh]\n",
    "        \n",
    "        # Calculate attention scores\n",
    "        scores = torch.matmul(q, k.permute(0, 1, 3, 2))\n",
    "        scores = scores / (np.sqrt(k.size(-1)))\n",
    "        # scores: [B, nh, T, T]\n",
    "        \n",
    "        # Apply softmax to get attention weights\n",
    "        attn_weights = F.softmax(scores, dim=-1)\n",
    "        # attn_weights: [B, nh, T, T]\n",
    "        \n",
    "        # Multiply attention weights with values\n",
    "        out = torch.matmul(attn_weights, v)\n",
    "        # out: [B, nh, T, C//nh]\n",
    "\n",
    "        # Concatenate the heads and apply a linear transformation\n",
    "        out = out.permute(0, 2, 1, 3).contiguous().view(B, T, C)\n",
    "        out = self.out_proj(out)\n",
    "        # out: [B, T, C]\n",
    "        \n",
    "        return out, attn_weights\n",
    "\n",
    "# testing\n",
    "x = torch.randn(2, 5, 32)\n",
    "msa = MultiheadSelfAttention(32, 8)\n",
    "print(msa)\n",
    "\n",
    "out, attn_weights = msa(x)\n",
    "print(\"\\nAttention Weights:\", attn_weights.size())  # torch.Size([2, 8, 5, 5])\n",
    "print(\"Output:\", out.size())  # torch.Size([2, 5, 10])"
   ]
  },
  {
   "cell_type": "markdown",
   "metadata": {},
   "source": [
    "## Feed-Forward Network (FFN)"
   ]
  },
  {
   "cell_type": "code",
   "execution_count": 4,
   "metadata": {},
   "outputs": [
    {
     "name": "stdout",
     "output_type": "stream",
     "text": [
      "FeedForwardNetwork(\n",
      "  (fc1): Linear(in_features=32, out_features=256, bias=True)\n",
      "  (fc2): Linear(in_features=256, out_features=32, bias=True)\n",
      "  (activ): GELU(approximate='tanh')\n",
      ")\n",
      "\n",
      "Output: torch.Size([2, 5, 32])\n"
     ]
    }
   ],
   "source": [
    "import torch\n",
    "import torch.nn as nn\n",
    "import torch.nn.functional as F\n",
    "\n",
    "class FeedForwardNetwork(nn.Module):\n",
    "    def __init__(self, embed_dim, ff_dim):\n",
    "        super().__init__()\n",
    "\n",
    "        # Two linear layers with activation in between\n",
    "        self.fc1 = nn.Linear(embed_dim, ff_dim)\n",
    "        self.fc2 = nn.Linear(ff_dim, embed_dim)\n",
    "        self.activ = nn.GELU(approximate='tanh')\n",
    "\n",
    "    def forward(self, x):            # [B, T, C]\n",
    "        x = self.activ(self.fc1(x))  # [B, T, 2C]\n",
    "        x = self.fc2(x)              # [B, T, C]\n",
    "\n",
    "        return x\n",
    "\n",
    "# testing\n",
    "ffn = FeedForwardNetwork(embed_dim=embed_dim, ff_dim=256)\n",
    "print(ffn)\n",
    "x = torch.randn(2, 5, embed_dim)\n",
    "out = ffn(x)\n",
    "print(\"\\nOutput:\", out.size())"
   ]
  },
  {
   "cell_type": "markdown",
   "metadata": {},
   "source": [
    "## Transformer block"
   ]
  },
  {
   "cell_type": "code",
   "execution_count": 5,
   "metadata": {},
   "outputs": [
    {
     "name": "stdout",
     "output_type": "stream",
     "text": [
      "TransformerBlock(\n",
      "  (attention): MultiheadSelfAttention(\n",
      "    (q_proj): Linear(in_features=32, out_features=32, bias=True)\n",
      "    (k_proj): Linear(in_features=32, out_features=32, bias=True)\n",
      "    (v_proj): Linear(in_features=32, out_features=32, bias=True)\n",
      "    (out_proj): Linear(in_features=32, out_features=32, bias=True)\n",
      "  )\n",
      "  (norm1): LayerNorm((32,), eps=1e-05, elementwise_affine=True)\n",
      "  (ffn): FeedForwardNetwork(\n",
      "    (fc1): Linear(in_features=32, out_features=256, bias=True)\n",
      "    (fc2): Linear(in_features=256, out_features=32, bias=True)\n",
      "    (activ): GELU(approximate='tanh')\n",
      "  )\n",
      "  (norm2): LayerNorm((32,), eps=1e-05, elementwise_affine=True)\n",
      "  (resid_dropout): Dropout(p=0.1, inplace=False)\n",
      ")\n"
     ]
    }
   ],
   "source": [
    "class TransformerBlock(nn.Module):\n",
    "    def __init__(self, config):\n",
    "        super().__init__()\n",
    "        self.attention = MultiheadSelfAttention(\n",
    "            config.embed_dim, config.num_heads\n",
    "        )\n",
    "        self.norm1 = nn.LayerNorm(config.embed_dim)\n",
    "\n",
    "        self.ffn = FeedForwardNetwork(\n",
    "            config.embed_dim, config.ff_dim\n",
    "        )\n",
    "        self.norm2 = nn.LayerNorm(config.embed_dim)\n",
    "        self.resid_dropout = nn.Dropout(config.resid_dropout)\n",
    "\n",
    "    def forward(self, x):\n",
    "        # Apply self-attention and add residual connection\n",
    "        shortcut = x\n",
    "        x = self.norm1(x)\n",
    "        x = self.attention(x)[0]\n",
    "        x = self.resid_dropout(x)\n",
    "        x = shortcut + x\n",
    "\n",
    "        # Apply feedforward network and add residual connection\n",
    "        shortcut = x\n",
    "        x = self.norm2(x)\n",
    "        x = self.ffn(x)\n",
    "        x = self.resid_dropout(x)\n",
    "        x = shortcut + x\n",
    "\n",
    "        return x\n",
    "    \n",
    "# testing\n",
    "class Config:\n",
    "    embed_dim = 32\n",
    "    num_heads = 8\n",
    "    ff_dim = 256\n",
    "    resid_dropout = 0.1\n",
    "\n",
    "transformer_block = TransformerBlock(Config)\n",
    "print(transformer_block)"
   ]
  },
  {
   "cell_type": "markdown",
   "metadata": {},
   "source": [
    "## Tokenization"
   ]
  },
  {
   "cell_type": "code",
   "execution_count": 6,
   "metadata": {},
   "outputs": [],
   "source": [
    "%%capture\n",
    "\n",
    "import sys\n",
    "\n",
    "!{sys.executable} -m pip install tiktoken"
   ]
  },
  {
   "cell_type": "code",
   "execution_count": 7,
   "metadata": {},
   "outputs": [
    {
     "name": "stdout",
     "output_type": "stream",
     "text": [
      "Token IDs: [15496, 11, 995, 0, 770, 318, 257, 1332, 286, 11241, 1634, 13]\n",
      "Decoded Text: Hello, world! This is a test of tokenization.\n"
     ]
    }
   ],
   "source": [
    "import tiktoken\n",
    "\n",
    "class Tokenizer:\n",
    "    def __init__(self, encoding_name='gpt2'):\n",
    "        # load the encoding\n",
    "        self.encoding = tiktoken.get_encoding(encoding_name)\n",
    "\n",
    "    def encode(self, text):\n",
    "        # Convert text to token IDs\n",
    "        tokens = self.encoding.encode(text)\n",
    "        return tokens\n",
    "\n",
    "    def decode(self, token_ids):\n",
    "        # Convert token IDs to text\n",
    "        text = self.encoding.decode(token_ids)\n",
    "        return text\n",
    "\n",
    "# testing\n",
    "tokenizer = Tokenizer()\n",
    "\n",
    "# Sample text\n",
    "text = \"Hello, world! This is a test of tokenization.\"\n",
    "\n",
    "# Encoding (tokenization)\n",
    "token_ids = tokenizer.encode(text)\n",
    "print(f\"Token IDs: {token_ids}\")\n",
    "\n",
    "# Decoding (detokenization)\n",
    "decoded_text = tokenizer.decode(token_ids)\n",
    "print(f\"Decoded Text: {decoded_text}\")\n"
   ]
  },
  {
   "cell_type": "markdown",
   "metadata": {},
   "source": [
    "## Embeddings"
   ]
  },
  {
   "cell_type": "code",
   "execution_count": 8,
   "metadata": {},
   "outputs": [
    {
     "name": "stdout",
     "output_type": "stream",
     "text": [
      "torch.Size([1, 12, 128])\n",
      "torch.Size([1, 12, 128])\n",
      "torch.Size([1, 12, 128])\n"
     ]
    }
   ],
   "source": [
    "vocab_size = tokenizer.encoding.n_vocab\n",
    "embed_dim = 128\n",
    "max_seq_len = 512\n",
    "\n",
    "token_embedding = nn.Embedding(vocab_size, embed_dim)\n",
    "position_embedding = nn.Embedding(max_seq_len, embed_dim)\n",
    "\n",
    "# testing\n",
    "text = \"Hello, world! This is a test of tokenization.\"\n",
    "token_ids = tokenizer.encode(text)\n",
    "\n",
    "# Convert token IDs to tensor\n",
    "token_tensor = torch.tensor(token_ids).unsqueeze(0)\n",
    "# Generate position IDs\n",
    "position_ids = torch.arange(token_tensor.size(1)).unsqueeze(0)\n",
    "\n",
    "token_embeds = token_embedding(token_tensor)\n",
    "print(token_embeds.size())\n",
    "\n",
    "position_embeds = position_embedding(position_ids)\n",
    "print(position_embeds.size())\n",
    "\n",
    "combined_embeds = token_embeds + position_embeds\n",
    "print(combined_embeds.size())"
   ]
  },
  {
   "cell_type": "markdown",
   "metadata": {},
   "source": [
    "## Full GPT-like architecture"
   ]
  },
  {
   "cell_type": "code",
   "execution_count": 9,
   "metadata": {},
   "outputs": [
    {
     "data": {
      "text/plain": [
       "{'vocab_size': 50257,\n",
       " 'embed_dim': 768,\n",
       " 'max_seq_len': 1024,\n",
       " 'num_layers': 12,\n",
       " 'ff_dim': 3072,\n",
       " 'num_heads': 12,\n",
       " 'attn_dropout': 0.1,\n",
       " 'resid_dropout': 0.1,\n",
       " 'embed_dropout': 0.1,\n",
       " 'initializer_range': 0.02,\n",
       " 'layer_norm_epsilon': '1e-5',\n",
       " 'output_attentions': False,\n",
       " 'output_hidden_states': False}"
      ]
     },
     "execution_count": 9,
     "metadata": {},
     "output_type": "execute_result"
    }
   ],
   "source": [
    "import yaml\n",
    "\n",
    "# Load the YAML configuration file\n",
    "with open(\"config.yaml\", \"r\") as file:\n",
    "    config = yaml.safe_load(file)\n",
    "\n",
    "config[\"model\"]"
   ]
  },
  {
   "cell_type": "code",
   "execution_count": 10,
   "metadata": {},
   "outputs": [],
   "source": [
    "%%capture\n",
    "\n",
    "import sys\n",
    "!{sys.executable} -m pip install pydantic"
   ]
  },
  {
   "cell_type": "code",
   "execution_count": 11,
   "metadata": {},
   "outputs": [
    {
     "name": "stdout",
     "output_type": "stream",
     "text": [
      "vocab_size=50257 embed_dim=768 max_seq_len=1024 num_layers=12 ff_dim=3072 num_heads=12 attn_dropout=0.1 resid_dropout=0.1 embed_dropout=0.1 initializer_range=0.02 layer_norm_epsilon=1e-05 output_attentions=False output_hidden_states=False\n"
     ]
    }
   ],
   "source": [
    "from pydantic import BaseModel\n",
    "import yaml\n",
    "\n",
    "class ModelConfig(BaseModel):\n",
    "    vocab_size: int\n",
    "    embed_dim: int\n",
    "    max_seq_len: int\n",
    "    num_layers: int\n",
    "    ff_dim: int\n",
    "    num_heads: int\n",
    "    attn_dropout: float\n",
    "    resid_dropout: float\n",
    "    embed_dropout: float\n",
    "    initializer_range: float\n",
    "    layer_norm_epsilon: float\n",
    "    output_attentions: bool\n",
    "    output_hidden_states: bool\n",
    "\n",
    "class TrainingConfig(BaseModel):\n",
    "    batch_size: int\n",
    "    learning_rate: float\n",
    "    weight_decay: float\n",
    "    max_steps: int\n",
    "    warmup_steps: int\n",
    "    optimizer: str\n",
    "    beta1: float\n",
    "    beta2: float\n",
    "    epsilon: float\n",
    "\n",
    "class Config(BaseModel):\n",
    "    model: ModelConfig\n",
    "    training: TrainingConfig\n",
    "\n",
    "# Load the YAML configuration file\n",
    "with open(\"config.yaml\", \"r\") as file:\n",
    "    config = Config.parse_obj(yaml.safe_load(file))\n",
    "\n",
    "print(config.model)"
   ]
  },
  {
   "cell_type": "code",
   "execution_count": 12,
   "metadata": {},
   "outputs": [
    {
     "data": {
      "text/plain": [
       "GPT(\n",
       "  (token_embedding): Embedding(50257, 768)\n",
       "  (position_embedding): Embedding(1024, 768)\n",
       "  (layers): ModuleList(\n",
       "    (0-11): 12 x TransformerBlock(\n",
       "      (attention): MultiheadSelfAttention(\n",
       "        (q_proj): Linear(in_features=768, out_features=768, bias=True)\n",
       "        (k_proj): Linear(in_features=768, out_features=768, bias=True)\n",
       "        (v_proj): Linear(in_features=768, out_features=768, bias=True)\n",
       "        (out_proj): Linear(in_features=768, out_features=768, bias=True)\n",
       "      )\n",
       "      (norm1): LayerNorm((768,), eps=1e-05, elementwise_affine=True)\n",
       "      (ffn): FeedForwardNetwork(\n",
       "        (fc1): Linear(in_features=768, out_features=3072, bias=True)\n",
       "        (fc2): Linear(in_features=3072, out_features=768, bias=True)\n",
       "        (activ): GELU(approximate='tanh')\n",
       "      )\n",
       "      (norm2): LayerNorm((768,), eps=1e-05, elementwise_affine=True)\n",
       "      (resid_dropout): Dropout(p=0.1, inplace=False)\n",
       "    )\n",
       "  )\n",
       "  (fc): Linear(in_features=768, out_features=50257, bias=True)\n",
       ")"
      ]
     },
     "execution_count": 12,
     "metadata": {},
     "output_type": "execute_result"
    }
   ],
   "source": [
    "class GPT(nn.Module):\n",
    "    def __init__(self, config):\n",
    "        super().__init__()\n",
    "        self.token_embedding = nn.Embedding(\n",
    "            config.vocab_size, config.embed_dim\n",
    "        )\n",
    "        self.position_embedding = nn.Embedding(\n",
    "            config.max_seq_len, config.embed_dim\n",
    "        )\n",
    "        self.layers = nn.ModuleList([\n",
    "            TransformerBlock(config) for _ in range(config.num_layers)\n",
    "        ])\n",
    "        self.fc = nn.Linear(config.embed_dim, config.vocab_size)\n",
    "        \n",
    "    def forward(self, x):\n",
    "        B, T = x.size()\n",
    "        positions = torch.arange(T).expand(B, T).to(x.device)\n",
    "        x = self.token_embedding(x) + self.position_embedding(positions)\n",
    "        for layer in self.layers:\n",
    "            x = layer(x)\n",
    "        x = self.fc(x)\n",
    "        return x\n",
    "    \n",
    "# testing\n",
    "gpt2 = GPT(config.model)\n",
    "\n",
    "gpt2"
   ]
  },
  {
   "cell_type": "code",
   "execution_count": 13,
   "metadata": {},
   "outputs": [
    {
     "name": "stdout",
     "output_type": "stream",
     "text": [
      "output: torch.Size([2, 5, 50257])\n"
     ]
    }
   ],
   "source": [
    "x = torch.randint(0, config.model.vocab_size, (2, 5))\n",
    "out = gpt2(x)\n",
    "print(\"output:\", out.size())"
   ]
  },
  {
   "cell_type": "code",
   "execution_count": null,
   "metadata": {},
   "outputs": [],
   "source": []
  }
 ],
 "metadata": {
  "kernelspec": {
   "display_name": "py310",
   "language": "python",
   "name": "python3"
  },
  "language_info": {
   "codemirror_mode": {
    "name": "ipython",
    "version": 3
   },
   "file_extension": ".py",
   "mimetype": "text/x-python",
   "name": "python",
   "nbconvert_exporter": "python",
   "pygments_lexer": "ipython3",
   "version": "3.10.15"
  }
 },
 "nbformat": 4,
 "nbformat_minor": 2
}
