{
 "cells": [
  {
   "cell_type": "code",
   "execution_count": 1,
   "metadata": {},
   "outputs": [
    {
     "name": "stdout",
     "output_type": "stream",
     "text": [
      "torch.Size([2, 5, 10])\n"
     ]
    }
   ],
   "source": [
    "import torch\n",
    "import torch.nn as nn\n",
    "import torch.nn.functional as F\n",
    "\n",
    "class BasicAttention(nn.Module):\n",
    "    def __init__(self, embed_dim):\n",
    "        super().__init__()\n",
    "        self.W_query = nn.Linear(embed_dim, embed_dim)\n",
    "        self.W_key = nn.Linear(embed_dim, embed_dim)\n",
    "        self.W_value = nn.Linear(embed_dim, embed_dim)\n",
    "        \n",
    "    def forward(self, x):\n",
    "        # Apply linear transformations to get queries, keys, and values\n",
    "        q = self.W_query(x)  # [B, T, C]\n",
    "        k = self.W_key(x)    # [B, T, C]\n",
    "        v = self.W_value(x)  # [B, T, C]\n",
    "        \n",
    "        # Calculate attention scores\n",
    "        scores = torch.bmm(q, k.transpose(1, 2))  # [B, T, T]\n",
    "        scores = scores / (k.size(-1) ** 0.5)     # Scaling by sqrt(d_k)\n",
    "        \n",
    "        # Apply softmax to get attention weights\n",
    "        attn_weights = F.softmax(scores, dim=-1)  # [B, T, T]\n",
    "        \n",
    "        # Multiply attention weights with values\n",
    "        out = torch.bmm(attn_weights, v)          # [B, T, C]\n",
    "        \n",
    "        return out, attn_weights\n",
    "\n",
    "# testing\n",
    "x = torch.randn(2, 5, 10)\n",
    "attention = BasicAttention(10)\n",
    "out, attn_weights = attention(x)\n",
    "print(out.size())  # torch.Size([2, 5, 10])"
   ]
  },
  {
   "cell_type": "code",
   "execution_count": null,
   "metadata": {},
   "outputs": [],
   "source": []
  }
 ],
 "metadata": {
  "kernelspec": {
   "display_name": "py310",
   "language": "python",
   "name": "python3"
  },
  "language_info": {
   "codemirror_mode": {
    "name": "ipython",
    "version": 3
   },
   "file_extension": ".py",
   "mimetype": "text/x-python",
   "name": "python",
   "nbconvert_exporter": "python",
   "pygments_lexer": "ipython3",
   "version": "3.10.15"
  }
 },
 "nbformat": 4,
 "nbformat_minor": 2
}
