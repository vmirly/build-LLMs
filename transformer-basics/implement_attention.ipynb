{
 "cells": [
  {
   "cell_type": "markdown",
   "metadata": {},
   "source": [
    "### Attention mechanism\n",
    "\n",
    " * Queries with shape `[B, T, C]`\n",
    " * Keys with shape `[B, T, C]`\n",
    " * Values with shape `[B, T, C]`\n",
    "\n",
    " * Computations:\n",
    "   * Attention scores $QK^\\top$ ==> shape: `[B, T, T]`\n",
    "   * Scaling the attention score\n",
    "   * Softmax normalization\n",
    "   * Multiply with tensor V\n",
    "\n",
    "$$\\text{Attention(Q,K,V)}=\\text{Softmax}\\left(\\frac{QK^\\top}{\\sqrt{d_k}}\\right)V$$"
   ]
  },
  {
   "cell_type": "code",
   "execution_count": 10,
   "metadata": {},
   "outputs": [
    {
     "name": "stdout",
     "output_type": "stream",
     "text": [
      "torch.Size([2, 5, 10])\n"
     ]
    }
   ],
   "source": [
    "import torch\n",
    "import torch.nn as nn\n",
    "import torch.nn.functional as F\n",
    "\n",
    "class BasicAttention(nn.Module):\n",
    "    def __init__(self, d_in, d_out):\n",
    "        super().__init__()\n",
    "        self.W_query = nn.Linear(d_in, d_out)\n",
    "        self.W_key = nn.Linear(d_in, d_out)\n",
    "        self.W_value = nn.Linear(d_in, d_out)\n",
    "        \n",
    "    def forward(self, x):\n",
    "        # Apply linear transformations to get queries, keys, and values\n",
    "        q = self.W_query(x)  # [B, T, C]\n",
    "        k = self.W_key(x)    # [B, T, C]\n",
    "        v = self.W_value(x)  # [B, T, C]\n",
    "        \n",
    "        # Calculate attention scores\n",
    "        scores = torch.bmm(q, k.transpose(1, 2))  # [B, T, T]\n",
    "        scores = scores / (k.size(-1) ** 0.5)     # Scaling by sqrt(d_k)\n",
    "        \n",
    "        # Apply softmax to get attention weights\n",
    "        attn_weights = F.softmax(scores, dim=-1)  # [B, T, T]\n",
    "        \n",
    "        # Multiply attention weights with values\n",
    "        out = torch.bmm(attn_weights, v)          # [B, T, C]\n",
    "        \n",
    "        return out, attn_weights\n",
    "\n",
    "# testing\n",
    "x = torch.randn(2, 5, 10)\n",
    "attention = BasicAttention(10, 10)\n",
    "out, attn_weights = attention(x)\n",
    "print(out.size())  # torch.Size([2, 5, 10])"
   ]
  },
  {
   "cell_type": "code",
   "execution_count": 14,
   "metadata": {},
   "outputs": [
    {
     "name": "stdout",
     "output_type": "stream",
     "text": [
      "torch.Size([2, 5, 10])\n"
     ]
    }
   ],
   "source": [
    "# A wrapper class for multihead attention\n",
    "class MultiHeadAttention(nn.Module):\n",
    "    def __init__(self, embed_dim, num_heads):\n",
    "        super().__init__()\n",
    "        assert embed_dim % num_heads == 0, \"Embedding dimension must be divisible by number of heads\"\n",
    "\n",
    "        self.heads = nn.ModuleList(\n",
    "            [\n",
    "                BasicAttention(d_in=embed_dim, d_out=embed_dim // num_heads)\n",
    "                for _ in range(num_heads)\n",
    "            ]\n",
    "        )\n",
    "        self.out_proj = nn.Linear(embed_dim, embed_dim)\n",
    "\n",
    "    def forward(self, x):\n",
    "        # split x into multiple heads and apply attention\n",
    "        context_vec = torch.cat([head(x)[0] for head in self.heads], dim=-1)\n",
    "        return self.out_proj(context_vec)\n",
    "    \n",
    "# testing\n",
    "x = torch.randn(2, 5, 10)\n",
    "mha = MultiHeadAttention(10, 2)\n",
    "out = mha(x)\n",
    "print(out.size())"
   ]
  },
  {
   "cell_type": "markdown",
   "metadata": {},
   "source": [
    "## Tokenization"
   ]
  },
  {
   "cell_type": "code",
   "execution_count": 16,
   "metadata": {},
   "outputs": [],
   "source": [
    "%%capture\n",
    "\n",
    "import sys\n",
    "\n",
    "!{sys.executable} -m pip install tiktoken"
   ]
  },
  {
   "cell_type": "code",
   "execution_count": 17,
   "metadata": {},
   "outputs": [
    {
     "name": "stdout",
     "output_type": "stream",
     "text": [
      "Token IDs: [15496, 11, 995, 0, 770, 318, 257, 1332, 286, 11241, 1634, 13]\n",
      "Decoded Text: Hello, world! This is a test of tokenization.\n"
     ]
    }
   ],
   "source": [
    "import tiktoken\n",
    "\n",
    "class Tokenizer:\n",
    "    def __init__(self, encoding_name='gpt2'):\n",
    "        # load the encoding\n",
    "        self.encoding = tiktoken.get_encoding(encoding_name)\n",
    "\n",
    "    def encode(self, text):\n",
    "        # Convert text to token IDs\n",
    "        tokens = self.encoding.encode(text)\n",
    "        return tokens\n",
    "\n",
    "    def decode(self, token_ids):\n",
    "        # Convert token IDs to text\n",
    "        text = self.encoding.decode(token_ids)\n",
    "        return text\n",
    "\n",
    "# testing\n",
    "tokenizer = Tokenizer()\n",
    "\n",
    "# Sample text\n",
    "text = \"Hello, world! This is a test of tokenization.\"\n",
    "\n",
    "# Encoding (tokenization)\n",
    "token_ids = tokenizer.encode(text)\n",
    "print(f\"Token IDs: {token_ids}\")\n",
    "\n",
    "# Decoding (detokenization)\n",
    "decoded_text = tokenizer.decode(token_ids)\n",
    "print(f\"Decoded Text: {decoded_text}\")\n"
   ]
  },
  {
   "cell_type": "markdown",
   "metadata": {},
   "source": [
    "## Embeddings"
   ]
  },
  {
   "cell_type": "code",
   "execution_count": 20,
   "metadata": {},
   "outputs": [
    {
     "name": "stdout",
     "output_type": "stream",
     "text": [
      "torch.Size([1, 12, 128])\n",
      "torch.Size([1, 12, 128])\n",
      "torch.Size([1, 12, 128])\n"
     ]
    }
   ],
   "source": [
    "vocab_size = tokenizer.encoding.n_vocab\n",
    "embed_dim = 128\n",
    "max_seq_len = 512\n",
    "\n",
    "token_embedding = nn.Embedding(vocab_size, embed_dim)\n",
    "position_embedding = nn.Embedding(max_seq_len, embed_dim)\n",
    "\n",
    "# testing\n",
    "text = \"Hello, world! This is a test of tokenization.\"\n",
    "token_ids = tokenizer.encode(text)\n",
    "\n",
    "# Convert token IDs to tensor\n",
    "token_tensor = torch.tensor(token_ids).unsqueeze(0)\n",
    "# Generate position IDs\n",
    "position_ids = torch.arange(token_tensor.size(1)).unsqueeze(0)\n",
    "\n",
    "token_embeds = token_embedding(token_tensor)\n",
    "print(token_embeds.size())\n",
    "\n",
    "position_embeds = position_embedding(position_ids)\n",
    "print(position_embeds.size())\n",
    "\n",
    "combined_embeds = token_embeds + position_embeds\n",
    "print(combined_embeds.size())"
   ]
  },
  {
   "cell_type": "code",
   "execution_count": null,
   "metadata": {},
   "outputs": [],
   "source": []
  }
 ],
 "metadata": {
  "kernelspec": {
   "display_name": "py310",
   "language": "python",
   "name": "python3"
  },
  "language_info": {
   "codemirror_mode": {
    "name": "ipython",
    "version": 3
   },
   "file_extension": ".py",
   "mimetype": "text/x-python",
   "name": "python",
   "nbconvert_exporter": "python",
   "pygments_lexer": "ipython3",
   "version": "3.10.15"
  }
 },
 "nbformat": 4,
 "nbformat_minor": 2
}
